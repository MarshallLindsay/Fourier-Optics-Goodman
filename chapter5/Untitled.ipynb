{
 "cells": [
  {
   "cell_type": "code",
   "execution_count": 2,
   "id": "6b42a320-bd52-43e5-a8d9-88c463a1153e",
   "metadata": {},
   "outputs": [],
   "source": [
    "import numpy as np\n",
    "import scipy as sp\n",
    "from scipy.fft import fft2\n",
    "from scipy.fft import ifft2\n",
    "from scipy.fft import fftfreq\n",
    "from scipy.fft import fftshift\n",
    "import imageio\n",
    "import cv2\n",
    "\n",
    "import matplotlib.pyplot as plt\n",
    "from matplotlib.colors import LinearSegmentedColormap\n",
    "from matplotlib import animation\n",
    "from matplotlib.animation import PillowWriter\n",
    "import pint\n",
    "\n",
    "plt.style.use(['science', 'notebook'])\n",
    "u = pint.UnitRegistry()\n"
   ]
  },
  {
   "cell_type": "code",
   "execution_count": 3,
   "id": "34bead34-2d28-40e6-a94a-2606a0ccd456",
   "metadata": {},
   "outputs": [],
   "source": [
    "D = 0.1 * u.mm\n",
    "lam = 660 * u.nm"
   ]
  },
  {
   "cell_type": "code",
   "execution_count": 4,
   "id": "9224eff5-f8dd-43c0-becf-a60385580159",
   "metadata": {},
   "outputs": [],
   "source": [
    "x = np.linspace(-2,2,1600) * u.mm\n",
    "xv, yv = np.meshgrid(x, x)"
   ]
  },
  {
   "cell_type": "code",
   "execution_count": 5,
   "id": "54174e24-3ec1-4b47-98ad-607422b4941e",
   "metadata": {},
   "outputs": [],
   "source": [
    "U0 = (np.abs(xv)< D/2) * (np.abs(yv)<0.5*u.mm)\n",
    "U0 = U0.astype(float)"
   ]
  },
  {
   "cell_type": "code",
   "execution_count": 6,
   "id": "5d6470b0-9865-4131-8922-e8ebeaeaed18",
   "metadata": {},
   "outputs": [
    {
     "name": "stderr",
     "output_type": "stream",
     "text": [
      "/home/marshall/miniconda3/envs/fourier_optics/lib/python3.10/site-packages/matplotlib/cbook/__init__.py:701: UnitStrippedWarning: The unit of the quantity is stripped when downcasting to ndarray.\n",
      "  x = np.array(x, subok=True, copy=copy)\n"
     ]
    },
    {
     "data": {
      "image/png": "[encoded data removed]",
      "text/plain": [
       "<Figure size 360x360 with 1 Axes>"
      ]
     },
     "metadata": {
      "needs_background": "light"
     },
     "output_type": "display_data"
    }
   ],
   "source": [
    "plt.figure(figsize=(5,5))\n",
    "plt.pcolormesh(xv,yv,U0)\n",
    "plt.xlabel('X-Position [mm]')\n",
    "plt.ylabel('Y-Position [mm]')\n",
    "plt.show()"
   ]
  }
 ],
 "metadata": {
  "kernelspec": {
   "display_name": "Python 3 (ipykernel)",
   "language": "python",
   "name": "python3"
  },
  "language_info": {
   "codemirror_mode": {
    "name": "ipython",
    "version": 3
   },
   "file_extension": ".py",
   "mimetype": "text/x-python",
   "name": "python",
   "nbconvert_exporter": "python",
   "pygments_lexer": "ipython3",
   "version": "3.10.2"
  }
 },
 "nbformat": 4,
 "nbformat_minor": 5
}
