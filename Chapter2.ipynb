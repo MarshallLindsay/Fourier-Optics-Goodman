{
 "cells": [
  {
   "cell_type": "markdown",
   "id": "84b25d7e-7272-4d21-a926-0a6ba42a3e79",
   "metadata": {},
   "source": [
    "### Problem 2-1\n",
    "\n",
    "##### Prove the following properties of $\\delta$ function:\n",
    "\n",
    "1. $\\delta(ax,by) = \\frac{1}{|ab|} \\delta(x,y)$\n",
    "2. $comb(ax)comb(by) = \\frac{1}{|ab|}\\sum^\\infty_{n=-\\infty} \\sum^\\infty_{m=-\\infty} \\delta(x-\\frac{n}{a}, y - \\frac{m}{b})$"
   ]
  },
  {
   "cell_type": "markdown",
   "id": "373136d5-2f1c-4d45-ba0c-b2db6ba0a0fd",
   "metadata": {},
   "source": [
    "### Problem 2-2\n",
    "\n",
    "##### Prove the following Fourier transform relations:\n",
    "\n",
    "1. $\\mathcal{F} \\{rect(x) rect(y)\\} = sinc(f_X) sinc(f_Y)$\n",
    "2. $\\mathcal{F} \\{ \\Lambda (x) \\Lambda (y) \\} = sinc^2(f_X) sinc^2(f_Y)$"
   ]
  },
  {
   "cell_type": "markdown",
   "id": "95cde7a8-e04b-4b40-a74d-3aa80b26c395",
   "metadata": {},
   "source": [
    "### Problem 2-3\n",
    "\n",
    "##### Prove the following Fourier transform theorems:\n",
    "\n",
    "1. $\\mathcal{F} \\mathcal{F} \\{g(x,y) \\}  =  \\mathcal{F}^{-1} \\mathcal{F}^{-1} \\{ g(x,y)\\} = g(-x,-y)$ at all points of continuity of $g(\\cdot)$.\n",
    "2. $\\mathcal{F} \\{ g(x,y) h(x,y) \\} = \\mathcal{F} \\{ g(x,y) \\} * \\mathcal{F}\\{ h(x,y) \\} $\n",
    "3. $\\mathcal{F} \\left\\{ \\nabla^2 g(x,y)\\right\\} = -4\\pi^2(f_X^2 + f_Y^2)\\mathcal{F}\\{ g(x,y)\\}$ where $\\nabla^2$ is the Laplacian Operator, \n",
    "\n",
    "\\begin{equation}\n",
    "\\nabla^2 = \\frac{\\partial^2}{\\partial x^2} +\\frac{\\partial^2}{\\partial y^2}\n",
    "\\end{equation}"
   ]
  },
  {
   "cell_type": "markdown",
   "id": "d4a5ffc7-a0c7-4d44-b263-486cc1985351",
   "metadata": {},
   "source": [
    "### Problem 2-4\n",
    "\n",
    "##### Let the transform operators $\\mathcal{F}_A \\{\\cdot \\}$ and $\\mathcal{F}_B \\{\\cdot \\}$ be defined by\n",
    "\\begin{align}\n",
    "\\mathcal{F}_A \\{g\\} &= \\frac{1}{a} \\iint_{-\\infty}^{\\infty}g(\\xi, \\eta) exp\\left[ -j\\frac{2\\pi}{a}(f_X \\xi + f_Y \\eta) \\right]d\\xi d\\eta \\\\\n",
    "\\mathcal{F}_B \\{g\\} &= \\frac{1}{b} \\iint_{-\\infty}^{\\infty}g(\\xi, \\eta) exp\\left[ -j\\frac{2\\pi}{b}(x \\xi + y \\eta) \\right]d\\xi d\\eta\n",
    "\\end{align}\n",
    "\n",
    "1. Find a simple interpretation for \n",
    "\\begin{equation}\n",
    "\\mathcal{F}_B \\{ \\mathcal{F}_A \\{ g(x,y) \\} \\}\n",
    "\\end{equation}\n",
    "2. Interpret the results for $a>b$ and $a < b$."
   ]
  },
  {
   "cell_type": "markdown",
   "id": "e4dc19c9-8eba-40ae-b9c2-9792aedd01fc",
   "metadata": {},
   "source": [
    "### Problem 2-5\n",
    "\n",
    "##### The \"equivalent area\" $\\Delta_{XY}$ of a function $g(x,y)$ can be defined by\n",
    "\\begin{equation}\n",
    "\\Delta_{XY} = \\frac{\\iint_{-\\infty}^{\\infty}g(x,y)dxdy}{g(0,0)}\n",
    "\\end{equation}\n",
    "##### while the \"equivalent bandwidth\" $\\Delta_{f_X f_Y}$ of $g$ is defined in terms of its transform $G$ by\n",
    "\\begin{equation}\n",
    "\\Delta_{f_X f_Y} = \\frac{\\iint_{-\\infty}^{\\infty} G(f_X, f_Y) df_X df_Y}{G(0,0)}\n",
    "\\end{equation}\n",
    "1. Show that $\\Delta_{XY} \\Delta_{f_X f_Y} = 1$."
   ]
  },
  {
   "cell_type": "markdown",
   "id": "4a222818-2e50-4db0-8ab9-8fb96a8319ce",
   "metadata": {},
   "source": [
    "### Problem 2-6\n",
    "\n",
    "##### Prove the follwing Fourier-Bessel transform relations:\n",
    "1. If $g_R(r) = \\delta(r-r_0)$, then\n",
    "\\begin{equation}\n",
    "\\mathcal{B} \\{ g_R(r) \\} = 2\\pi r_0 J_0(2\\pi r_0 \\rho)\n",
    "\\end{equation}\n",
    "2. If $g_R(r) = 1$ for $a\\leq r \\leq 1$ and zero otherwise, then\n",
    "\\begin{equation}\n",
    "\\mathcal{B} \\{ g_R(r) \\} = \\frac{J_1(2\\pi \\rho) - aJ_1(2\\pi a \\rho)}{\\rho}\n",
    "\\end{equation}\n",
    "3. If $\\mathcal{B}\\{g_R(r) \\} = G(\\rho)$, then\n",
    "\\begin{equation}\n",
    "\\mathcal{B} \\{ g_R(ar) \\} = \\frac{1}{a^2} G \\left( \\frac{\\rho}{a} \\right)\n",
    "\\end{equation}\n",
    "4. $\\mathcal{B} \\left \\{ exp(-\\pi r^2 ) \\right \\} = exp(-\\pi \\rho^2)$"
   ]
  },
  {
   "cell_type": "markdown",
   "id": "66a0d4c3-0e58-4dce-bf06-08e452750a72",
   "metadata": {},
   "source": [
    "### Problem 2-7\n",
    "\n",
    "##### Let $g(r,\\theta)$ bbe separable in polar coordinates.\n",
    "1. Show that if $g(r,\\theta) = g_R(r)e^{jm\\theta}$, then\n",
    "\\begin{equation}\n",
    "\\mathcal{F}\\{ g(r,\\theta) \\} = (-j)^m e^{jm\\phi}\\mathcal{H}_m \\{ g_R(r) \\}\n",
    "\\end{equation}\n",
    "where $\\mathcal{H}_m\\{ \\cdot \\}$ is the Hankel transform of order m,\n",
    "\\begin{equation}\n",
    "\\mathcal{H}_m\\{ g_R(r)\\} = 2\\pi \\int_0^{\\infty} rg_R(r)J_m(2\\pi r \\rho) dr\n",
    "\\end{equation}\n",
    "and $(\\rho,\\phi)$ are polar coordinates in the frequency space.\n",
    "\n",
    "Hint: $exp(ja sin(x)) = \\sum_{k=-\\infty}^{\\infty} J_k(a)exp(jkx)$"
   ]
  },
  {
   "cell_type": "code",
   "execution_count": null,
   "id": "54727803-3148-453a-95c4-cc1148707764",
   "metadata": {},
   "outputs": [],
   "source": []
  }
 ],
 "metadata": {
  "kernelspec": {
   "display_name": "Python 3",
   "language": "python",
   "name": "python3"
  },
  "language_info": {
   "codemirror_mode": {
    "name": "ipython",
    "version": 3
   },
   "file_extension": ".py",
   "mimetype": "text/x-python",
   "name": "python",
   "nbconvert_exporter": "python",
   "pygments_lexer": "ipython3",
   "version": "3.8.8"
  }
 },
 "nbformat": 4,
 "nbformat_minor": 5
}
