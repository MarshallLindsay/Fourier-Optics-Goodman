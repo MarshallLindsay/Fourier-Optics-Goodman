{
 "cells": [
  {
   "cell_type": "markdown",
   "id": "84b25d7e-7272-4d21-a926-0a6ba42a3e79",
   "metadata": {},
   "source": [
    "### Problem 2-1\n",
    "\n",
    "##### Prove the following properties of $\\delta$ function:\n",
    "\n",
    "1. $\\delta(ax,by) = \\frac{1}{|ab|} \\delta(x,y)$\n",
    "2. $comb(ax)comb(by) = \\frac{1}{|ab|}\\sum^\\infty_{n=-\\infty} \\sum^\\infty_{m=-\\infty} \\delta(x-\\frac{n}{a}, y - \\frac{m}{b})$"
   ]
  },
  {
   "cell_type": "markdown",
   "id": "373136d5-2f1c-4d45-ba0c-b2db6ba0a0fd",
   "metadata": {},
   "source": [
    "### Problem 2-2\n",
    "\n",
    "##### Prove the following Fourier transform relations:\n",
    "\n",
    "1. $\\mathcal{F} \\{rect(x) rect(y)\\} = sinc(f_X) sinc(f_Y)$\n",
    "2. $\\mathcal{F} \\{ \\Lambda (x) \\Lambda (y) \\} = sinc^2(f_X) sinc^2(f_Y)$"
   ]
  },
  {
   "cell_type": "markdown",
   "id": "95cde7a8-e04b-4b40-a74d-3aa80b26c395",
   "metadata": {},
   "source": [
    "### Problem 2-3\n",
    "\n",
    "##### Prove the following Fourier transform theorems:\n",
    "\n",
    "1. $\\mathcal{F} \\mathcal{F} \\{g(x,y) \\}  =  \\mathcal{F}^{-1} \\mathcal{F}^{-1} \\{ g(x,y)\\} = g(-x,-y)$ at all points of continuity of $g(\\cdot)$.\n",
    "2. $\\mathcal{F} \\{ g(x,y) h(x,y) \\} = \\mathcal{F} \\{ g(x,y) \\} * \\mathcal{F}\\{ h(x,y) \\} $\n",
    "3. $\\mathcal{F} \\left\\{ \\nabla^2 g(x,y)\\right\\} = -4\\pi^2(f_X^2 + f_Y^2)\\mathcal{F}\\{ g(x,y)\\}$ where $\\nabla^2$ is the Laplacian Operator, \n",
    "\n",
    "\\begin{equation}\n",
    "\\nabla^2 = \\frac{\\partial^2}{\\partial x^2} +\\frac{\\partial^2}{\\partial y^2}\n",
    "\\end{equation}"
   ]
  },
  {
   "cell_type": "code",
   "execution_count": null,
   "id": "dec2e91e-d68c-459a-b12e-8d22d6c70eda",
   "metadata": {},
   "outputs": [],
   "source": []
  }
 ],
 "metadata": {
  "kernelspec": {
   "display_name": "Python 3 (ipykernel)",
   "language": "python",
   "name": "python3"
  },
  "language_info": {
   "codemirror_mode": {
    "name": "ipython",
    "version": 3
   },
   "file_extension": ".py",
   "mimetype": "text/x-python",
   "name": "python",
   "nbconvert_exporter": "python",
   "pygments_lexer": "ipython3",
   "version": "3.9.7"
  }
 },
 "nbformat": 4,
 "nbformat_minor": 5
}
