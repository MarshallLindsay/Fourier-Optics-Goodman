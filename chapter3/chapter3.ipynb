{
 "cells": [
  {
   "cell_type": "markdown",
   "id": "59ded60a-c9fb-4ae0-91fd-d23c22c2fa69",
   "metadata": {},
   "source": [
    "# Foundations of Scalar Diffraction Theory"
   ]
  },
  {
   "cell_type": "markdown",
   "id": "9324a904-ed1b-481d-a023-0797d5d893e6",
   "metadata": {},
   "source": [
    "Diffraction: any deviation of light rays from rectilinear paths which cannot be interpreted as reflection or refraction.\n",
    "\n",
    "Diffraciton is caused by the confinement of the lateral extent of a wave, and is most appreciable when that confinement is to sizes comparable with a wavelength of the radiation being used. \n",
    "\n",
    "Maybe a timeline of diffraction advancements and the people responsible."
   ]
  },
  {
   "cell_type": "code",
   "execution_count": null,
   "id": "8bfcf91e-1b74-478b-a2d9-756c61c16b89",
   "metadata": {},
   "outputs": [],
   "source": []
  }
 ],
 "metadata": {
  "kernelspec": {
   "display_name": "Python 3 (ipykernel)",
   "language": "python",
   "name": "python3"
  },
  "language_info": {
   "codemirror_mode": {
    "name": "ipython",
    "version": 3
   },
   "file_extension": ".py",
   "mimetype": "text/x-python",
   "name": "python",
   "nbconvert_exporter": "python",
   "pygments_lexer": "ipython3",
   "version": "3.10.2"
  }
 },
 "nbformat": 4,
 "nbformat_minor": 5
}
